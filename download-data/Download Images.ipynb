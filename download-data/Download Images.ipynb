{
 "cells": [
  {
   "cell_type": "code",
   "execution_count": 15,
   "metadata": {},
   "outputs": [],
   "source": [
    "import pandas as pd\n",
    "from tqdm import tqdm\n",
    "import requests\n",
    "import os\n",
    "from glob import glob"
   ]
  },
  {
   "cell_type": "code",
   "execution_count": 16,
   "metadata": {},
   "outputs": [
    {
     "name": "stdout",
     "output_type": "stream",
     "text": [
      "mkdir: cannot create directory ‘data’: File exists\r\n"
     ]
    }
   ],
   "source": [
    "!mkdir data"
   ]
  },
  {
   "cell_type": "code",
   "execution_count": 17,
   "metadata": {},
   "outputs": [],
   "source": [
    "import zipfile\n",
    "with zipfile.ZipFile('./open_images_bears.zip', 'r') as f:\n",
    "    f.extractall(os.path.expanduser('./image_csv'))"
   ]
  },
  {
   "cell_type": "code",
   "execution_count": 18,
   "metadata": {},
   "outputs": [],
   "source": [
    "files = glob('./image_csv/*.csv')"
   ]
  },
  {
   "cell_type": "code",
   "execution_count": 19,
   "metadata": {},
   "outputs": [
    {
     "data": {
      "text/plain": [
       "['./image_csv/val-polar-bear-images.csv',\n",
       " './image_csv/test-brown-bear-images.csv',\n",
       " './image_csv/train-no-bear-images.csv',\n",
       " './image_csv/train-polar-bear-images.csv',\n",
       " './image_csv/test-polar-bear-images.csv',\n",
       " './image_csv/train-brown-bear-images.csv',\n",
       " './image_csv/val-no-bear-images.csv',\n",
       " './image_csv/val-brown-bear-images.csv',\n",
       " './image_csv/test-no-bear-images.csv']"
      ]
     },
     "execution_count": 19,
     "metadata": {},
     "output_type": "execute_result"
    }
   ],
   "source": [
    "files"
   ]
  },
  {
   "cell_type": "code",
   "execution_count": 20,
   "metadata": {},
   "outputs": [],
   "source": [
    "def download(url, path):\n",
    "    r = requests.get(url, allow_redirects=True)\n",
    "    open(path, 'wb').write(r.content)"
   ]
  },
  {
   "cell_type": "code",
   "execution_count": null,
   "metadata": {},
   "outputs": [
    {
     "name": "stderr",
     "output_type": "stream",
     "text": [
      "29it [00:05,  5.79it/s]\n",
      "71it [00:12,  5.68it/s]\n",
      "86it [00:14,  6.50it/s]"
     ]
    }
   ],
   "source": [
    "for fn in files:\n",
    "    df = pd.read_csv(fn)\n",
    "    s = fn.split('/')[-1]\n",
    "    stage = s.split('-')[0]\n",
    "    lbl = s.split('-')[1]\n",
    "    dir_path = './data/{}'.format(stage)\n",
    "    if not os.path.isdir(dir_path):\n",
    "        os.mkdir(dir_path)\n",
    "    dir_path = dir_path + '/{}'.format(lbl)\n",
    "    if not os.path.isdir(dir_path):\n",
    "        os.mkdir(dir_path)\n",
    "    for i, row in tqdm(df.iterrows()):\n",
    "        path = dir_path + '/{}.jpg'.format(row['ImageID'])\n",
    "        if not pd.isnull(row['Thumbnail300KURL']):\n",
    "            download(row['Thumbnail300KURL'], path)\n",
    "        else:\n",
    "            download(row['OriginalURL'], path)"
   ]
  },
  {
   "cell_type": "code",
   "execution_count": null,
   "metadata": {},
   "outputs": [],
   "source": []
  }
 ],
 "metadata": {
  "kernelspec": {
   "display_name": "conda_tensorflow_p36",
   "language": "python",
   "name": "conda_tensorflow_p36"
  },
  "language_info": {
   "codemirror_mode": {
    "name": "ipython",
    "version": 3
   },
   "file_extension": ".py",
   "mimetype": "text/x-python",
   "name": "python",
   "nbconvert_exporter": "python",
   "pygments_lexer": "ipython3",
   "version": "3.6.5"
  }
 },
 "nbformat": 4,
 "nbformat_minor": 2
}
